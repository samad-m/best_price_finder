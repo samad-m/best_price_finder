{
 "cells": [
  {
   "cell_type": "markdown",
   "metadata": {
    "heading_collapsed": true
   },
   "source": [
    "## Imports"
   ]
  },
  {
   "cell_type": "code",
   "execution_count": 1,
   "metadata": {
    "hidden": true
   },
   "outputs": [],
   "source": [
    "import requests\n",
    "from bs4 import BeautifulSoup\n",
    "import pandas as pd\n",
    "import numpy as np\n",
    "from fake_useragent import UserAgent  # To spoof user-agent when doing requests\n",
    "import urllib.request # To download images\n",
    "import os  # To download images to /data/data directory and to \n",
    "           # delete images once they are not being used\n",
    "# To display images. Not currently used\n",
    "# from PIL import Image\n",
    "# from io import BytesIO\n",
    "import pickle"
   ]
  },
  {
   "cell_type": "markdown",
   "metadata": {},
   "source": [
    "# Function Definitions"
   ]
  },
  {
   "cell_type": "markdown",
   "metadata": {},
   "source": [
    "## Functions to extract info from input URL"
   ]
  },
  {
   "cell_type": "code",
   "execution_count": 2,
   "metadata": {},
   "outputs": [],
   "source": [
    "# Given URL, output the search keywords that were used\n",
    "def get_search_keyword(url):\n",
    "    return url.split('keywords=')[1].split('&')[0]"
   ]
  },
  {
   "cell_type": "code",
   "execution_count": 3,
   "metadata": {},
   "outputs": [],
   "source": [
    "# Given URL, output the name of the product on the page\n",
    "def get_product_name(url):\n",
    "    # What Amazon sees when we do the request\n",
    "    headers = {'User-Agent': UserAgent().random,  # Use random user agent\n",
    "               \"Accept-Encoding\":\"gzip, deflate\", \n",
    "               \"Accept\":\"text/html,application/xhtml+xml,application/xml;q=0.9,*/*;q=0.8\", \n",
    "               \"DNT\":\"1\",\"Connection\":\"close\", \n",
    "               \"Upgrade-Insecure-Requests\":\"1\"}\n",
    "    \n",
    "    # Create request for url\n",
    "    r = requests.get(url, headers=headers)\n",
    "    content = r.content\n",
    "    \n",
    "    # Create BeautifulSoup object from HTML code\n",
    "    soup = BeautifulSoup(content)\n",
    "    \n",
    "    # Return the product name, removed of whitespace\n",
    "    return soup.find('span', attrs={'id': 'productTitle'}).text.strip()"
   ]
  },
  {
   "cell_type": "markdown",
   "metadata": {},
   "source": [
    "## Functions to format text"
   ]
  },
  {
   "cell_type": "code",
   "execution_count": 4,
   "metadata": {},
   "outputs": [],
   "source": [
    "# Given an HTML snippet, return the formatted text \n",
    "def get_text(series): \n",
    "    try:\n",
    "        return series.text\n",
    "    except:\n",
    "        return np.nan"
   ]
  },
  {
   "cell_type": "code",
   "execution_count": 5,
   "metadata": {},
   "outputs": [],
   "source": [
    "# Remove newline characters from start and end of ratings\n",
    "# Remove 'out of 5 stars'\n",
    "# If a product doesn't have a rating, set it to np.nan\n",
    "def clean_rating(series):\n",
    "    try:\n",
    "        return float(series.lstrip('\\n\\n').rstrip('\\n\\n out of 5 stars'))\n",
    "    except:\n",
    "        return np.nan"
   ]
  },
  {
   "cell_type": "code",
   "execution_count": 6,
   "metadata": {},
   "outputs": [],
   "source": [
    "# Remove dollar sign ($) from price and convert value to float\n",
    "# If a product doesn't have a price, set it to np.nan\n",
    "def clean_price(series):\n",
    "    try:\n",
    "        return float(series.lstrip('$'))\n",
    "    except:\n",
    "        return np.nan"
   ]
  },
  {
   "cell_type": "markdown",
   "metadata": {},
   "source": [
    "## Function to create a DF  (for a single search result page)"
   ]
  },
  {
   "cell_type": "code",
   "execution_count": 7,
   "metadata": {},
   "outputs": [],
   "source": [
    "# Given page number and search keyword, return a DF containing:\n",
    "# Product name, page, price, image url, rating, and url\n",
    "def get_product_details(page_num, search_keyword):\n",
    "    # What Amazon sees when we do the request\n",
    "    headers = {'User-Agent': UserAgent().random,  # Use random user agent\n",
    "               \"Accept-Encoding\":\"gzip, deflate\", \n",
    "               \"Accept\":\"text/html,application/xhtml+xml,application/xml;q=0.9,*/*;q=0.8\", \n",
    "               \"DNT\":\"1\",\"Connection\":\"close\", \n",
    "               \"Upgrade-Insecure-Requests\":\"1\"}\n",
    "    \n",
    "    # Replace whitespace with + so that it can be used for searching\n",
    "    search_keyword = search_keyword.replace(' ', '+')\n",
    "    \n",
    "    # Create URL\n",
    "    url = \"https://www.amazon.com/s?k={}&page={}\".format(str(search_keyword), str(page_num))\n",
    "    print(url)\n",
    "    \n",
    "    # Create request for url\n",
    "    r = requests.get(url, headers=headers)\n",
    "    content = r.content\n",
    "    \n",
    "    # Create BeautifulSoup object from HTML code\n",
    "    soup = BeautifulSoup(content)\n",
    "    \n",
    "    # Check if the search result is list or grid view\n",
    "    list_view_check = soup.find('div', attrs={'class': 'sg-col-20-of-24 s-result-item sg-col-0-of-12 sg-col-28-of-32 sg-col-16-of-20 sg-col sg-col-32-of-36 sg-col-12-of-16 sg-col-24-of-28'})\n",
    "    \n",
    "    if list_view_check:\n",
    "        search_mode = 'list'\n",
    "        products_on_page = soup.findAll('div', attrs={'class': 's-include-content-margin s-border-bottom'})  # Contains all products on page\n",
    "    elif not list_view_check:\n",
    "        search_mode = 'grid'\n",
    "        products_on_page = soup.findAll('div', attrs={'class': 's-expand-height s-include-content-margin s-border-bottom'})  # Contains all products on page\n",
    "    \n",
    "    # Create list of dicts to store info\n",
    "    data = []\n",
    "    \n",
    "    if search_mode == 'list':  # Search results load in list view format\n",
    "        # Iterate thru the products on the page\n",
    "        for product in products_on_page:\n",
    "            # Create dict to store product info\n",
    "            product_dict = {}\n",
    "\n",
    "            # Get product information \n",
    "            product_details = product.find('div', attrs={'class': 'sg-col-4-of-12 sg-col-8-of-16 sg-col-16-of-24 sg-col-12-of-20 sg-col-24-of-32 sg-col sg-col-28-of-36 sg-col-20-of-28'})\n",
    "\n",
    "            # Get product URL, name, page, price, and rating\n",
    "            product_dict['url'] = 'https://amazon.com' + product_details.find('a', attrs={'class': 'a-link-normal a-text-normal'})['href']\n",
    "            product_dict['name'] = product_details.find('span', attrs={'class': 'a-size-medium a-color-base a-text-normal'})\n",
    "            product_dict['page'] = page_num\n",
    "            product_dict['price'] = product_details.find('span', attrs={'class': 'a-offscreen'})\n",
    "            \n",
    "            # Some products do not have ratings\n",
    "            try: \n",
    "                product_dict['rating'] = product_details.find('span', attrs={'class': 'a-icon-alt'})\n",
    "            except:\n",
    "                product_dict['rating'] = np.nan\n",
    "\n",
    "            # Get product image\n",
    "            product_dict['image_url'] = product.find('div', attrs = {'class': 'a-section aok-relative s-image-fixed-height'}).find('img')['src']\n",
    "\n",
    "            # Add product_dict to our list of dicts\n",
    "            data.append(product_dict)\n",
    "            \n",
    "    elif search_mode == 'grid':  # Search results load in grid view format\n",
    "        # Iterate thru the products on the page\n",
    "        for product in products_on_page:\n",
    "            # Create dict to store product info\n",
    "            product_dict = {}\n",
    "\n",
    "            # Get product information \n",
    "            product_details = product.findAll('div', attrs={'class': 'sg-row'})[-1]\n",
    "\n",
    "            # Get product URL, name, page, price, and rating\n",
    "            product_dict['url'] = 'https://amazon.com' + product_details.find('a', attrs={'class': 'a-link-normal a-text-normal'})['href']\n",
    "            product_dict['name'] = product_details.find('span', attrs={'class': 'a-size-base-plus a-color-base a-text-normal'})\n",
    "            product_dict['page'] = page_num\n",
    "\n",
    "            # Some products do not have prices\n",
    "            try: \n",
    "                product_dict['price'] = product_details.find('span', attrs={'class': 'a-offscreen'})\n",
    "            except:\n",
    "                product_dict['price'] = np.nan \n",
    "            \n",
    "            # Some products do not have ratings\n",
    "            try: \n",
    "                product_dict['rating'] = product_details.find('div', attrs={'class': 'a-row a-size-small'}).find('span')\n",
    "            except:\n",
    "                product_dict['rating'] = np.nan\n",
    "\n",
    "            # Get product image\n",
    "            product_dict['image_url'] = product_details.find('div', attrs = {'class': 'a-section aok-relative s-image-square-aspect'}).find('img')['src']\n",
    "\n",
    "            # Add product_dict to our list of dicts\n",
    "            data.append(product_dict)\n",
    "    \n",
    "    # DF containing all our data\n",
    "    df = pd.DataFrame(data)\n",
    "    \n",
    "    # Given HTML strings, update them to formatted text\n",
    "    df.name = df.name.apply(get_text)\n",
    "    \n",
    "    df.price = df.price.apply(get_text)\n",
    "    df.price = df.price.apply(clean_price)  # Remove $ signs, convert to float\n",
    "    \n",
    "    df.rating = df.rating.apply(get_text)\n",
    "    df.rating = df.rating.apply(clean_rating)  # Remove 'out of 5 stars' and whitestpace, convert to float\n",
    "    \n",
    "    return df"
   ]
  },
  {
   "cell_type": "markdown",
   "metadata": {},
   "source": [
    "## Function to create DataFrame (all pages)"
   ]
  },
  {
   "cell_type": "code",
   "execution_count": 8,
   "metadata": {},
   "outputs": [],
   "source": [
    "# Given a search keyword, return a DF containing all products on the\n",
    "# search's first 20 pages (Amazon's limit) \n",
    "def create_product_df(search_keyword):\n",
    "    # Create DF to store info\n",
    "    df = pd.DataFrame()\n",
    "\n",
    "    # Iterate thru all 20 pages\n",
    "    # Amazon only lets you go thru 20 pages\n",
    "    for page in range(1, 21):\n",
    "        page_df = get_product_details(page, search_keyword)\n",
    "\n",
    "        # Append DF from page to our master df\n",
    "        df = df.append(page_df, ignore_index=True)\n",
    "        \n",
    "    return df"
   ]
  },
  {
   "cell_type": "markdown",
   "metadata": {},
   "source": [
    "## Functions to download/delete images"
   ]
  },
  {
   "cell_type": "code",
   "execution_count": 9,
   "metadata": {},
   "outputs": [],
   "source": [
    "# Download image for all the products into the current directory\n",
    "def get_product_images(df):\n",
    "    \n",
    "    # Get the digits place so that we can do left-zero padding\n",
    "    # e.g. 123 will have digits_places=3\n",
    "    # Do left-zero padding for Keras alhanumeric sorting\n",
    "    # e.g. to prevent sorting as 1, 10, 100, etc.\n",
    "    digits_places = len(str(len(df)))\n",
    "    \n",
    "    # Iterate thru the all the image URLs\n",
    "    for index, url in df.image_url.iteritems():\n",
    "        \n",
    "        # Convert int to str\n",
    "        index_str = str(index)\n",
    "\n",
    "        # Construct filename of the downloaded image\n",
    "        # Includes the directory where the image is to be stored\n",
    "        # zfill pads the left of the string, such that the total number of digits\n",
    "        # is equal to digits_places\n",
    "        full_filename = os.path.join(os.getcwd() + '/data/data/', index_str.zfill(digits_places) + '.jpg')\n",
    "    \n",
    "        \n",
    "        # Download image\n",
    "        urllib.request.urlretrieve(url, full_filename)"
   ]
  },
  {
   "cell_type": "code",
   "execution_count": 10,
   "metadata": {},
   "outputs": [],
   "source": [
    "# Delete images for all the products from the current directory\n",
    "def delete_product_images(df):\n",
    "    \n",
    "    # Get the digits place so that we can do left-zero padding\n",
    "    # e.g. 123 will have digits_places=3\n",
    "    # Do left-zero padding for Keras alhanumeric sorting\n",
    "    # e.g. to prevent sorting as 1, 10, 100, etc.\n",
    "    digits_places = len(str(len(df)))\n",
    "    \n",
    "    # Iterate thru the all the images\n",
    "    for index in range(len(df)):\n",
    "        \n",
    "        # Convert int to str\n",
    "        index_str = str(index)\n",
    "\n",
    "        # Construct filename of the downloaded image\n",
    "        # Includes the directory where the image is to be stored\n",
    "        # zfill pads the left of the string, such that the total number of digits\n",
    "        # is equal to digits_places\n",
    "        full_filename = os.path.join(os.getcwd() + '/data/data/', index_str.zfill(digits_places) + '.jpg')\n",
    "    \n",
    "            \n",
    "        # Delete image\n",
    "        os.remove(full_filename)"
   ]
  },
  {
   "cell_type": "markdown",
   "metadata": {},
   "source": [
    "# Download Data"
   ]
  },
  {
   "cell_type": "code",
   "execution_count": 11,
   "metadata": {},
   "outputs": [],
   "source": [
    "# Enter the URL of your preferred product\n",
    "url = 'https://www.amazon.com/SainSmart-HC-SR04-Ranging-Detector-Distance/dp/B004U8TOE6/ref=sr_1_5?keywords=arduino+ultrasonic+sensor&qid=1577313071&sr=8-5'\n",
    "\n",
    "# Extract search keywords from URL\n",
    "search_keyword = get_search_keyword(url)\n",
    "\n",
    "# Extract product name from URL\n",
    "input_product = get_product_name(url)"
   ]
  },
  {
   "cell_type": "code",
   "execution_count": 12,
   "metadata": {},
   "outputs": [
    {
     "data": {
      "text/plain": [
       "'arduino+ultrasonic+sensor'"
      ]
     },
     "execution_count": 12,
     "metadata": {},
     "output_type": "execute_result"
    }
   ],
   "source": [
    "search_keyword"
   ]
  },
  {
   "cell_type": "code",
   "execution_count": 13,
   "metadata": {},
   "outputs": [
    {
     "data": {
      "text/plain": [
       "'SainSmart HC-SR04 Ranging Detector Mod Distance Sensor (Blue)'"
      ]
     },
     "execution_count": 13,
     "metadata": {},
     "output_type": "execute_result"
    }
   ],
   "source": [
    "input_product"
   ]
  },
  {
   "cell_type": "code",
   "execution_count": 14,
   "metadata": {
    "scrolled": true
   },
   "outputs": [
    {
     "name": "stdout",
     "output_type": "stream",
     "text": [
      "https://www.amazon.com/s?k=arduino+ultrasonic+sensor&page=1\n",
      "https://www.amazon.com/s?k=arduino+ultrasonic+sensor&page=2\n",
      "https://www.amazon.com/s?k=arduino+ultrasonic+sensor&page=3\n",
      "https://www.amazon.com/s?k=arduino+ultrasonic+sensor&page=4\n",
      "https://www.amazon.com/s?k=arduino+ultrasonic+sensor&page=5\n",
      "https://www.amazon.com/s?k=arduino+ultrasonic+sensor&page=6\n",
      "https://www.amazon.com/s?k=arduino+ultrasonic+sensor&page=7\n",
      "https://www.amazon.com/s?k=arduino+ultrasonic+sensor&page=8\n",
      "https://www.amazon.com/s?k=arduino+ultrasonic+sensor&page=9\n",
      "https://www.amazon.com/s?k=arduino+ultrasonic+sensor&page=10\n",
      "https://www.amazon.com/s?k=arduino+ultrasonic+sensor&page=11\n",
      "https://www.amazon.com/s?k=arduino+ultrasonic+sensor&page=12\n",
      "https://www.amazon.com/s?k=arduino+ultrasonic+sensor&page=13\n",
      "https://www.amazon.com/s?k=arduino+ultrasonic+sensor&page=14\n",
      "https://www.amazon.com/s?k=arduino+ultrasonic+sensor&page=15\n",
      "https://www.amazon.com/s?k=arduino+ultrasonic+sensor&page=16\n",
      "https://www.amazon.com/s?k=arduino+ultrasonic+sensor&page=17\n",
      "https://www.amazon.com/s?k=arduino+ultrasonic+sensor&page=18\n",
      "https://www.amazon.com/s?k=arduino+ultrasonic+sensor&page=19\n",
      "https://www.amazon.com/s?k=arduino+ultrasonic+sensor&page=20\n"
     ]
    }
   ],
   "source": [
    "# Create DF containing all the products from first 20 pages of\n",
    "# Amazon search results\n",
    "df = create_product_df(search_keyword)"
   ]
  },
  {
   "cell_type": "code",
   "execution_count": 15,
   "metadata": {},
   "outputs": [
    {
     "data": {
      "text/plain": [
       "426"
      ]
     },
     "execution_count": 15,
     "metadata": {},
     "output_type": "execute_result"
    }
   ],
   "source": [
    "len(df)"
   ]
  },
  {
   "cell_type": "code",
   "execution_count": 16,
   "metadata": {},
   "outputs": [
    {
     "data": {
      "text/html": [
       "<div>\n",
       "<style scoped>\n",
       "    .dataframe tbody tr th:only-of-type {\n",
       "        vertical-align: middle;\n",
       "    }\n",
       "\n",
       "    .dataframe tbody tr th {\n",
       "        vertical-align: top;\n",
       "    }\n",
       "\n",
       "    .dataframe thead th {\n",
       "        text-align: right;\n",
       "    }\n",
       "</style>\n",
       "<table border=\"1\" class=\"dataframe\">\n",
       "  <thead>\n",
       "    <tr style=\"text-align: right;\">\n",
       "      <th></th>\n",
       "      <th>image_url</th>\n",
       "      <th>name</th>\n",
       "      <th>page</th>\n",
       "      <th>price</th>\n",
       "      <th>rating</th>\n",
       "      <th>url</th>\n",
       "    </tr>\n",
       "  </thead>\n",
       "  <tbody>\n",
       "    <tr>\n",
       "      <th>0</th>\n",
       "      <td>https://m.media-amazon.com/images/I/81pEIMrGSi...</td>\n",
       "      <td>Smraza 5pcs Ultrasonic Module HC-SR04 Distance...</td>\n",
       "      <td>1</td>\n",
       "      <td>9.59</td>\n",
       "      <td>4.6</td>\n",
       "      <td>https://amazon.com/gp/slredirect/picassoRedire...</td>\n",
       "    </tr>\n",
       "    <tr>\n",
       "      <th>1</th>\n",
       "      <td>https://m.media-amazon.com/images/I/61AMuR0djY...</td>\n",
       "      <td>ELEGOO 5PCS HC-SR04 Ultrasonic Module Distance...</td>\n",
       "      <td>1</td>\n",
       "      <td>8.98</td>\n",
       "      <td>4.4</td>\n",
       "      <td>https://amazon.com/gp/slredirect/picassoRedire...</td>\n",
       "    </tr>\n",
       "    <tr>\n",
       "      <th>2</th>\n",
       "      <td>https://m.media-amazon.com/images/I/616pDRD0zJ...</td>\n",
       "      <td>Aceirmc HC-SR04 Ultrasonic Sensor Distance Mod...</td>\n",
       "      <td>1</td>\n",
       "      <td>6.99</td>\n",
       "      <td>4.6</td>\n",
       "      <td>https://amazon.com/Organizer-Ultrasonic-Distan...</td>\n",
       "    </tr>\n",
       "    <tr>\n",
       "      <th>3</th>\n",
       "      <td>https://m.media-amazon.com/images/I/81pEIMrGSi...</td>\n",
       "      <td>Smraza 5pcs Ultrasonic Module HC-SR04 Distance...</td>\n",
       "      <td>1</td>\n",
       "      <td>9.59</td>\n",
       "      <td>4.6</td>\n",
       "      <td>https://amazon.com/Smraza-Ultrasonic-Distance-...</td>\n",
       "    </tr>\n",
       "    <tr>\n",
       "      <th>4</th>\n",
       "      <td>https://m.media-amazon.com/images/I/61AMuR0djY...</td>\n",
       "      <td>ELEGOO 5PCS HC-SR04 Ultrasonic Module Distance...</td>\n",
       "      <td>1</td>\n",
       "      <td>8.98</td>\n",
       "      <td>4.4</td>\n",
       "      <td>https://amazon.com/ELEGOO-HC-SR04-Ultrasonic-D...</td>\n",
       "    </tr>\n",
       "  </tbody>\n",
       "</table>\n",
       "</div>"
      ],
      "text/plain": [
       "                                           image_url  \\\n",
       "0  https://m.media-amazon.com/images/I/81pEIMrGSi...   \n",
       "1  https://m.media-amazon.com/images/I/61AMuR0djY...   \n",
       "2  https://m.media-amazon.com/images/I/616pDRD0zJ...   \n",
       "3  https://m.media-amazon.com/images/I/81pEIMrGSi...   \n",
       "4  https://m.media-amazon.com/images/I/61AMuR0djY...   \n",
       "\n",
       "                                                name  page  price  rating  \\\n",
       "0  Smraza 5pcs Ultrasonic Module HC-SR04 Distance...     1   9.59     4.6   \n",
       "1  ELEGOO 5PCS HC-SR04 Ultrasonic Module Distance...     1   8.98     4.4   \n",
       "2  Aceirmc HC-SR04 Ultrasonic Sensor Distance Mod...     1   6.99     4.6   \n",
       "3  Smraza 5pcs Ultrasonic Module HC-SR04 Distance...     1   9.59     4.6   \n",
       "4  ELEGOO 5PCS HC-SR04 Ultrasonic Module Distance...     1   8.98     4.4   \n",
       "\n",
       "                                                 url  \n",
       "0  https://amazon.com/gp/slredirect/picassoRedire...  \n",
       "1  https://amazon.com/gp/slredirect/picassoRedire...  \n",
       "2  https://amazon.com/Organizer-Ultrasonic-Distan...  \n",
       "3  https://amazon.com/Smraza-Ultrasonic-Distance-...  \n",
       "4  https://amazon.com/ELEGOO-HC-SR04-Ultrasonic-D...  "
      ]
     },
     "execution_count": 16,
     "metadata": {},
     "output_type": "execute_result"
    }
   ],
   "source": [
    "df.head()"
   ]
  },
  {
   "cell_type": "code",
   "execution_count": 17,
   "metadata": {},
   "outputs": [
    {
     "data": {
      "text/plain": [
       "277"
      ]
     },
     "execution_count": 17,
     "metadata": {},
     "output_type": "execute_result"
    }
   ],
   "source": [
    "# Drop the listings with duplicate entries\n",
    "df.drop_duplicates(subset=['name'], inplace=True)\n",
    "\n",
    "len(df)"
   ]
  },
  {
   "cell_type": "code",
   "execution_count": 18,
   "metadata": {},
   "outputs": [],
   "source": [
    "# Reset index\n",
    "df.reset_index(drop=True, inplace=True)"
   ]
  },
  {
   "cell_type": "code",
   "execution_count": 19,
   "metadata": {},
   "outputs": [],
   "source": [
    "# Index of input image\n",
    "# This image will be compared to every other image\n",
    "input_index = df[df.name == input_product].index[0]"
   ]
  },
  {
   "cell_type": "code",
   "execution_count": 20,
   "metadata": {},
   "outputs": [],
   "source": [
    "# Download all the product images to /data/data\n",
    "get_product_images(df)"
   ]
  },
  {
   "cell_type": "code",
   "execution_count": 21,
   "metadata": {},
   "outputs": [],
   "source": [
    "# Pickle dataframe to use in main project file\n",
    "with open('products_data', 'wb') as picklefile:\n",
    "    pickle.dump([df, input_index], picklefile)"
   ]
  },
  {
   "cell_type": "code",
   "execution_count": 22,
   "metadata": {},
   "outputs": [],
   "source": [
    "# Delete all the downloaded images\n",
    "delete_product_images(df)"
   ]
  },
  {
   "cell_type": "code",
   "execution_count": null,
   "metadata": {},
   "outputs": [],
   "source": []
  }
 ],
 "metadata": {
  "kernelspec": {
   "display_name": "Python 3",
   "language": "python",
   "name": "python3"
  },
  "language_info": {
   "codemirror_mode": {
    "name": "ipython",
    "version": 3
   },
   "file_extension": ".py",
   "mimetype": "text/x-python",
   "name": "python",
   "nbconvert_exporter": "python",
   "pygments_lexer": "ipython3",
   "version": "3.7.3"
  },
  "toc": {
   "base_numbering": 1,
   "nav_menu": {},
   "number_sections": true,
   "sideBar": true,
   "skip_h1_title": false,
   "title_cell": "Table of Contents",
   "title_sidebar": "Contents",
   "toc_cell": false,
   "toc_position": {},
   "toc_section_display": true,
   "toc_window_display": false
  }
 },
 "nbformat": 4,
 "nbformat_minor": 2
}
